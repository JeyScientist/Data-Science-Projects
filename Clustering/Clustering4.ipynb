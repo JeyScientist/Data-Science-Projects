{
 "cells": [
  {
   "cell_type": "code",
   "execution_count": 16,
   "id": "fd18d3b7-9bc7-487b-a581-ce5f818a46fd",
   "metadata": {},
   "outputs": [
    {
     "name": "stdout",
     "output_type": "stream",
     "text": [
      "Collecting kmodes\n",
      "  Downloading kmodes-0.12.2-py2.py3-none-any.whl.metadata (8.1 kB)\n",
      "Requirement already satisfied: numpy>=1.10.4 in c:\\users\\science\\desktop\\anaco\\lib\\site-packages (from kmodes) (1.26.4)\n",
      "Requirement already satisfied: scikit-learn>=0.22.0 in c:\\users\\science\\desktop\\anaco\\lib\\site-packages (from kmodes) (1.2.2)\n",
      "Requirement already satisfied: scipy>=0.13.3 in c:\\users\\science\\desktop\\anaco\\lib\\site-packages (from kmodes) (1.11.4)\n",
      "Requirement already satisfied: joblib>=0.11 in c:\\users\\science\\desktop\\anaco\\lib\\site-packages (from kmodes) (1.2.0)\n",
      "Requirement already satisfied: threadpoolctl>=2.0.0 in c:\\users\\science\\desktop\\anaco\\lib\\site-packages (from scikit-learn>=0.22.0->kmodes) (2.2.0)\n",
      "Downloading kmodes-0.12.2-py2.py3-none-any.whl (20 kB)\n",
      "Installing collected packages: kmodes\n",
      "Successfully installed kmodes-0.12.2\n",
      "Requirement already satisfied: fuzzy_c_means in c:\\users\\science\\desktop\\anaco\\lib\\site-packages (1.7.2)\n",
      "Requirement already satisfied: joblib<2.0.0,>=1.2.0 in c:\\users\\science\\desktop\\anaco\\lib\\site-packages (from fuzzy_c_means) (1.2.0)\n",
      "Requirement already satisfied: numpy<2.0.0,>=1.21.1 in c:\\users\\science\\desktop\\anaco\\lib\\site-packages (from fuzzy_c_means) (1.26.4)\n",
      "Requirement already satisfied: pydantic<3.0.0,>=2.6.4 in c:\\users\\science\\desktop\\anaco\\lib\\site-packages (from fuzzy_c_means) (2.7.0)\n",
      "Requirement already satisfied: tabulate<0.9.0,>=0.8.9 in c:\\users\\science\\desktop\\anaco\\lib\\site-packages (from fuzzy_c_means) (0.8.10)\n",
      "Requirement already satisfied: tqdm<5.0.0,>=4.64.1 in c:\\users\\science\\desktop\\anaco\\lib\\site-packages (from fuzzy_c_means) (4.65.0)\n",
      "Requirement already satisfied: typer<0.10.0,>=0.9.0 in c:\\users\\science\\desktop\\anaco\\lib\\site-packages (from fuzzy_c_means) (0.9.4)\n",
      "Requirement already satisfied: annotated-types>=0.4.0 in c:\\users\\science\\desktop\\anaco\\lib\\site-packages (from pydantic<3.0.0,>=2.6.4->fuzzy_c_means) (0.6.0)\n",
      "Requirement already satisfied: pydantic-core==2.18.1 in c:\\users\\science\\desktop\\anaco\\lib\\site-packages (from pydantic<3.0.0,>=2.6.4->fuzzy_c_means) (2.18.1)\n",
      "Requirement already satisfied: typing-extensions>=4.6.1 in c:\\users\\science\\desktop\\anaco\\lib\\site-packages (from pydantic<3.0.0,>=2.6.4->fuzzy_c_means) (4.9.0)\n",
      "Requirement already satisfied: colorama in c:\\users\\science\\desktop\\anaco\\lib\\site-packages (from tqdm<5.0.0,>=4.64.1->fuzzy_c_means) (0.4.6)\n",
      "Requirement already satisfied: click<9.0.0,>=7.1.1 in c:\\users\\science\\desktop\\anaco\\lib\\site-packages (from typer<0.10.0,>=0.9.0->fuzzy_c_means) (8.1.7)\n"
     ]
    }
   ],
   "source": [
    "\n",
    "!pip install kmodes\n",
    "!pip install fuzzy_c_means \n",
    "import numpy as np\n",
    "import pandas as pd\n",
    "import matplotlib.pyplot as plt\n",
    "import seaborn as sns\n",
    "from sklearn.preprocessing import LabelEncoder\n",
    "from sklearn.cluster import KMeans\n",
    "from fcmeans import FCM\n",
    "from kmodes.kmodes import KModes"
   ]
  },
  {
   "cell_type": "code",
   "execution_count": 2,
   "id": "133cd428-63e2-492f-a82b-f0bd6fd77fd7",
   "metadata": {},
   "outputs": [
    {
     "data": {
      "text/html": [
       "<div>\n",
       "<style scoped>\n",
       "    .dataframe tbody tr th:only-of-type {\n",
       "        vertical-align: middle;\n",
       "    }\n",
       "\n",
       "    .dataframe tbody tr th {\n",
       "        vertical-align: top;\n",
       "    }\n",
       "\n",
       "    .dataframe thead th {\n",
       "        text-align: right;\n",
       "    }\n",
       "</style>\n",
       "<table border=\"1\" class=\"dataframe\">\n",
       "  <thead>\n",
       "    <tr style=\"text-align: right;\">\n",
       "      <th></th>\n",
       "      <th>SALES</th>\n",
       "      <th>Price Each</th>\n",
       "      <th>QUANTITYORDERED</th>\n",
       "      <th>COUNTRY</th>\n",
       "      <th>ORDERLINENUMBER</th>\n",
       "    </tr>\n",
       "  </thead>\n",
       "  <tbody>\n",
       "    <tr>\n",
       "      <th>0</th>\n",
       "      <td>5404.62</td>\n",
       "      <td>1700.00</td>\n",
       "      <td>30</td>\n",
       "      <td>USA</td>\n",
       "      <td>2</td>\n",
       "    </tr>\n",
       "    <tr>\n",
       "      <th>1</th>\n",
       "      <td>7209.11</td>\n",
       "      <td>600.00</td>\n",
       "      <td>34</td>\n",
       "      <td>France</td>\n",
       "      <td>5</td>\n",
       "    </tr>\n",
       "    <tr>\n",
       "      <th>2</th>\n",
       "      <td>7329.06</td>\n",
       "      <td>11.95</td>\n",
       "      <td>41</td>\n",
       "      <td>France</td>\n",
       "      <td>2</td>\n",
       "    </tr>\n",
       "    <tr>\n",
       "      <th>3</th>\n",
       "      <td>7374.10</td>\n",
       "      <td>149.99</td>\n",
       "      <td>45</td>\n",
       "      <td>USA</td>\n",
       "      <td>6</td>\n",
       "    </tr>\n",
       "    <tr>\n",
       "      <th>4</th>\n",
       "      <td>10993.50</td>\n",
       "      <td>11.95</td>\n",
       "      <td>49</td>\n",
       "      <td>USA</td>\n",
       "      <td>14</td>\n",
       "    </tr>\n",
       "    <tr>\n",
       "      <th>...</th>\n",
       "      <td>...</td>\n",
       "      <td>...</td>\n",
       "      <td>...</td>\n",
       "      <td>...</td>\n",
       "      <td>...</td>\n",
       "    </tr>\n",
       "    <tr>\n",
       "      <th>2818</th>\n",
       "      <td>NaN</td>\n",
       "      <td>NaN</td>\n",
       "      <td>20</td>\n",
       "      <td>Spain</td>\n",
       "      <td>15</td>\n",
       "    </tr>\n",
       "    <tr>\n",
       "      <th>2819</th>\n",
       "      <td>NaN</td>\n",
       "      <td>NaN</td>\n",
       "      <td>29</td>\n",
       "      <td>Finland</td>\n",
       "      <td>1</td>\n",
       "    </tr>\n",
       "    <tr>\n",
       "      <th>2820</th>\n",
       "      <td>NaN</td>\n",
       "      <td>NaN</td>\n",
       "      <td>43</td>\n",
       "      <td>Spain</td>\n",
       "      <td>4</td>\n",
       "    </tr>\n",
       "    <tr>\n",
       "      <th>2821</th>\n",
       "      <td>NaN</td>\n",
       "      <td>NaN</td>\n",
       "      <td>34</td>\n",
       "      <td>France</td>\n",
       "      <td>1</td>\n",
       "    </tr>\n",
       "    <tr>\n",
       "      <th>2822</th>\n",
       "      <td>NaN</td>\n",
       "      <td>NaN</td>\n",
       "      <td>47</td>\n",
       "      <td>USA</td>\n",
       "      <td>9</td>\n",
       "    </tr>\n",
       "  </tbody>\n",
       "</table>\n",
       "<p>2823 rows × 5 columns</p>\n",
       "</div>"
      ],
      "text/plain": [
       "         SALES  Price Each  QUANTITYORDERED  COUNTRY  ORDERLINENUMBER\n",
       "0      5404.62     1700.00               30      USA                2\n",
       "1      7209.11      600.00               34   France                5\n",
       "2      7329.06       11.95               41   France                2\n",
       "3      7374.10      149.99               45      USA                6\n",
       "4     10993.50       11.95               49      USA               14\n",
       "...        ...         ...              ...      ...              ...\n",
       "2818       NaN         NaN               20    Spain               15\n",
       "2819       NaN         NaN               29  Finland                1\n",
       "2820       NaN         NaN               43    Spain                4\n",
       "2821       NaN         NaN               34   France                1\n",
       "2822       NaN         NaN               47      USA                9\n",
       "\n",
       "[2823 rows x 5 columns]"
      ]
     },
     "execution_count": 2,
     "metadata": {},
     "output_type": "execute_result"
    }
   ],
   "source": [
    "data = pd.read_csv(\"C:/Users/SCIENCE/Documents/optimize.csv\") \n",
    "data"
   ]
  },
  {
   "cell_type": "code",
   "execution_count": 3,
   "id": "b039a5c6-6dd6-4647-99c8-33811b1a287d",
   "metadata": {},
   "outputs": [
    {
     "data": {
      "text/html": [
       "<div>\n",
       "<style scoped>\n",
       "    .dataframe tbody tr th:only-of-type {\n",
       "        vertical-align: middle;\n",
       "    }\n",
       "\n",
       "    .dataframe tbody tr th {\n",
       "        vertical-align: top;\n",
       "    }\n",
       "\n",
       "    .dataframe thead th {\n",
       "        text-align: right;\n",
       "    }\n",
       "</style>\n",
       "<table border=\"1\" class=\"dataframe\">\n",
       "  <thead>\n",
       "    <tr style=\"text-align: right;\">\n",
       "      <th></th>\n",
       "      <th>SALES</th>\n",
       "      <th>Price Each</th>\n",
       "      <th>QUANTITYORDERED</th>\n",
       "      <th>ORDERLINENUMBER</th>\n",
       "    </tr>\n",
       "  </thead>\n",
       "  <tbody>\n",
       "    <tr>\n",
       "      <th>count</th>\n",
       "      <td>967.000000</td>\n",
       "      <td>967.000000</td>\n",
       "      <td>2823.000000</td>\n",
       "      <td>2823.000000</td>\n",
       "    </tr>\n",
       "    <tr>\n",
       "      <th>mean</th>\n",
       "      <td>4053.377104</td>\n",
       "      <td>170.626412</td>\n",
       "      <td>35.092809</td>\n",
       "      <td>6.466171</td>\n",
       "    </tr>\n",
       "    <tr>\n",
       "      <th>std</th>\n",
       "      <td>2050.694132</td>\n",
       "      <td>311.571888</td>\n",
       "      <td>9.741443</td>\n",
       "      <td>4.225841</td>\n",
       "    </tr>\n",
       "    <tr>\n",
       "      <th>min</th>\n",
       "      <td>640.050000</td>\n",
       "      <td>2.990000</td>\n",
       "      <td>6.000000</td>\n",
       "      <td>1.000000</td>\n",
       "    </tr>\n",
       "    <tr>\n",
       "      <th>25%</th>\n",
       "      <td>2494.190000</td>\n",
       "      <td>11.950000</td>\n",
       "      <td>27.000000</td>\n",
       "      <td>3.000000</td>\n",
       "    </tr>\n",
       "    <tr>\n",
       "      <th>50%</th>\n",
       "      <td>3761.370000</td>\n",
       "      <td>14.950000</td>\n",
       "      <td>35.000000</td>\n",
       "      <td>6.000000</td>\n",
       "    </tr>\n",
       "    <tr>\n",
       "      <th>75%</th>\n",
       "      <td>5325.080000</td>\n",
       "      <td>150.000000</td>\n",
       "      <td>43.000000</td>\n",
       "      <td>9.000000</td>\n",
       "    </tr>\n",
       "    <tr>\n",
       "      <th>max</th>\n",
       "      <td>12001.000000</td>\n",
       "      <td>1700.000000</td>\n",
       "      <td>97.000000</td>\n",
       "      <td>18.000000</td>\n",
       "    </tr>\n",
       "  </tbody>\n",
       "</table>\n",
       "</div>"
      ],
      "text/plain": [
       "              SALES   Price Each  QUANTITYORDERED  ORDERLINENUMBER\n",
       "count    967.000000   967.000000      2823.000000      2823.000000\n",
       "mean    4053.377104   170.626412        35.092809         6.466171\n",
       "std     2050.694132   311.571888         9.741443         4.225841\n",
       "min      640.050000     2.990000         6.000000         1.000000\n",
       "25%     2494.190000    11.950000        27.000000         3.000000\n",
       "50%     3761.370000    14.950000        35.000000         6.000000\n",
       "75%     5325.080000   150.000000        43.000000         9.000000\n",
       "max    12001.000000  1700.000000        97.000000        18.000000"
      ]
     },
     "execution_count": 3,
     "metadata": {},
     "output_type": "execute_result"
    }
   ],
   "source": [
    "data.describe()"
   ]
  },
  {
   "cell_type": "code",
   "execution_count": 4,
   "id": "58b77537-d3e7-462d-a2a2-b7709efa55ce",
   "metadata": {},
   "outputs": [
    {
     "data": {
      "text/plain": [
       "0"
      ]
     },
     "execution_count": 4,
     "metadata": {},
     "output_type": "execute_result"
    }
   ],
   "source": [
    "n=data[\"Price Each\"].replace(np.NaN,172.12)\n",
    "n.isnull().sum()"
   ]
  },
  {
   "cell_type": "code",
   "execution_count": 5,
   "id": "0b7b1afb-beb1-444d-9c35-8d6e2504178e",
   "metadata": {},
   "outputs": [
    {
     "data": {
      "text/plain": [
       "0"
      ]
     },
     "execution_count": 5,
     "metadata": {},
     "output_type": "execute_result"
    }
   ],
   "source": [
    "P=data.SALES.replace(np.NaN,4053)\n",
    "P.isnull().sum()"
   ]
  },
  {
   "cell_type": "code",
   "execution_count": 17,
   "id": "295f2dff-d4c2-43e0-a8ee-ab03e319519b",
   "metadata": {},
   "outputs": [
    {
     "data": {
      "text/plain": [
       "Price Each    0\n",
       "SALES         0\n",
       "dtype: int64"
      ]
     },
     "execution_count": 17,
     "metadata": {},
     "output_type": "execute_result"
    }
   ],
   "source": [
    "w = data[[\"Price Each\",\"SALES\"]]\n",
    "x=w.dropna()\n",
    "x.isnull().sum()"
   ]
  },
  {
   "cell_type": "code",
   "execution_count": 18,
   "id": "91b9d8c5-8469-4b24-bc24-1f2cae276ea8",
   "metadata": {},
   "outputs": [],
   "source": [
    "\n",
    "wcss = []\n",
    "for i in range(1,11):\n",
    "    kmeans = KMeans(n_clusters =i, init = \"k-means++\")\n",
    "    kmeans.fit(x)\n",
    "    wcss.append(kmeans.inertia_)\n",
    "    import warnings\n",
    "    warnings.filterwarnings(\"ignore\")"
   ]
  },
  {
   "cell_type": "code",
   "execution_count": 19,
   "id": "c20cf925-5144-434c-86eb-5a3a302a0b1b",
   "metadata": {},
   "outputs": [
    {
     "data": {
      "text/plain": [
       "[<matplotlib.lines.Line2D at 0x237f7b84f10>]"
      ]
     },
     "execution_count": 19,
     "metadata": {},
     "output_type": "execute_result"
    },
    {
     "data": {
      "image/png": "[encoded data removed]",
      "text/plain": [
       "<Figure size 640x480 with 1 Axes>"
      ]
     },
     "metadata": {},
     "output_type": "display_data"
    }
   ],
   "source": [
    "plt.plot(range(1,11), wcss)"
   ]
  },
  {
   "cell_type": "code",
   "execution_count": 20,
   "id": "7352439c-7215-470d-9183-2fef23818ba4",
   "metadata": {},
   "outputs": [
    {
     "data": {
      "text/plain": [
       "array([3, 7, 7, 7, 9, 3, 4, 3, 7, 4, 1, 1, 1, 7, 3, 4, 7, 9, 9])"
      ]
     },
     "execution_count": 20,
     "metadata": {},
     "output_type": "execute_result"
    }
   ],
   "source": [
    "model = KMeans(n_clusters = 3, init = \"k-means++\")\n",
    "y_pred = kmeans.fit_predict(x)\n",
    "y_pred[:19]"
   ]
  },
  {
   "cell_type": "code",
   "execution_count": 31,
   "id": "32eecd8a-a8a2-4bd6-a8ae-d3cb37bd4a81",
   "metadata": {},
   "outputs": [
    {
     "ename": "InvalidIndexError",
     "evalue": "(array([False, False, False, False, False, False, False, False, False,\n       False, False, False, False, False, False, False, False, False,\n       False, False, False,  True, False,  True, False, False,  True,\n       False, False, False,  True, False,  True, False, False,  True,\n       False, False, False, False, False, False, False, False, False,\n        True, False, False, False, False,  True, False, False, False,\n       False, False,  True, False, False, False, False, False, False,\n        True,  True, False, False,  True,  True,  True, False,  True,\n       False, False, False, False,  True, False, False, False, False,\n        True, False, False, False, False, False, False, False, False,\n        True,  True, False,  True, False,  True, False, False, False,\n       False, False, False, False, False, False, False, False, False,\n       False, False, False, False, False, False, False,  True, False,\n       False, False, False, False, False, False, False, False, False,\n       False, False, False, False, False,  True, False, False, False,\n       False, False, False, False, False, False,  True,  True, False,\n       False, False,  True,  True,  True,  True, False, False, False,\n        True, False, False, False,  True, False, False, False, False,\n       False, False, False, False, False, False, False, False, False,\n       False, False, False, False,  True, False, False,  True,  True,\n       False,  True, False, False,  True, False, False, False, False,\n       False, False, False, False, False, False, False,  True, False,\n        True, False, False, False, False, False,  True, False, False,\n       False, False, False, False, False, False, False, False, False,\n       False, False, False, False, False, False, False, False, False,\n       False, False,  True, False, False, False, False, False, False,\n       False,  True, False, False, False, False,  True,  True, False,\n       False,  True, False, False, False,  True, False, False, False,\n       False, False, False,  True,  True, False, False, False,  True,\n        True, False, False, False,  True,  True, False, False, False,\n        True,  True, False, False, False,  True, False, False, False,\n       False, False, False,  True, False, False, False, False,  True,\n       False, False,  True, False, False, False, False,  True,  True,\n        True,  True, False, False, False, False, False, False, False,\n        True, False, False, False, False, False, False, False, False,\n        True, False, False, False, False,  True,  True, False, False,\n       False, False, False, False, False,  True, False, False, False,\n       False, False, False,  True,  True, False,  True,  True, False,\n        True, False,  True, False, False, False, False,  True, False,\n        True, False,  True, False, False, False,  True, False, False,\n       False,  True,  True, False, False,  True, False, False, False,\n       False, False, False, False, False, False, False, False, False,\n       False, False, False, False,  True,  True, False, False, False,\n       False, False, False, False, False, False, False, False,  True,\n       False, False, False,  True, False,  True, False, False, False,\n       False, False,  True, False, False, False, False, False, False,\n       False, False, False, False,  True, False, False, False,  True,\n       False, False, False,  True,  True, False, False,  True, False,\n        True,  True, False, False,  True, False, False,  True, False,\n       False, False, False, False,  True, False,  True, False, False,\n        True, False, False,  True, False, False,  True, False, False,\n       False, False, False, False, False, False, False, False, False,\n       False,  True, False, False, False, False, False, False, False,\n       False, False, False, False, False, False, False, False, False,\n        True, False, False, False, False, False, False, False,  True,\n       False, False,  True, False,  True, False, False, False,  True,\n        True, False, False, False,  True, False,  True, False, False,\n        True, False, False,  True,  True, False, False, False, False,\n       False, False, False, False, False, False, False, False, False,\n        True, False,  True,  True, False, False,  True, False,  True,\n       False, False, False, False, False, False, False,  True,  True,\n       False, False, False,  True, False, False, False, False,  True,\n        True, False, False,  True, False, False,  True, False, False,\n       False, False, False, False, False, False,  True,  True, False,\n       False,  True, False, False, False, False, False, False,  True,\n       False, False, False, False, False,  True, False, False, False,\n       False, False, False, False, False, False, False, False, False,\n       False, False, False, False, False, False, False, False, False,\n        True,  True,  True, False, False, False, False, False, False,\n       False, False, False, False, False, False, False, False, False,\n       False, False, False, False, False, False, False, False,  True,\n       False, False, False, False, False, False, False, False, False,\n       False, False, False, False, False, False, False, False, False,\n       False, False, False, False, False, False, False, False, False,\n       False, False, False, False, False, False, False, False, False,\n       False, False, False, False, False, False, False, False, False,\n       False, False, False, False,  True, False, False, False, False,\n       False, False, False, False,  True,  True,  True,  True,  True,\n       False,  True, False, False, False, False, False, False,  True,\n       False, False,  True, False, False, False, False, False, False,\n       False, False, False, False, False, False, False, False, False,\n       False, False, False, False, False, False, False, False, False,\n       False, False, False, False, False, False,  True, False, False,\n       False, False,  True, False,  True, False,  True, False, False,\n       False,  True, False, False,  True, False, False, False, False,\n       False, False, False, False, False, False, False, False, False,\n       False, False, False, False, False, False, False, False, False,\n       False, False, False, False, False, False, False, False, False,\n        True, False, False, False, False, False, False, False, False,\n       False,  True, False, False, False, False, False, False, False,\n       False, False, False, False, False, False, False, False, False,\n       False, False, False, False, False, False, False, False, False,\n       False, False, False, False, False, False, False, False, False,\n       False, False, False,  True, False, False, False, False, False,\n       False,  True,  True,  True, False, False, False, False, False,\n        True, False, False, False, False,  True,  True, False, False,\n       False, False, False, False,  True,  True, False, False, False,\n        True,  True, False, False, False,  True, False, False,  True,\n       False, False, False, False, False, False, False, False, False,\n       False, False,  True, False, False, False, False,  True, False,\n       False, False, False, False, False,  True,  True,  True, False,\n        True, False, False, False, False, False,  True, False, False,\n       False, False, False, False, False, False, False, False, False,\n       False,  True, False, False, False, False, False, False, False,\n       False, False, False, False,  True, False,  True,  True, False,\n       False, False, False, False,  True, False, False,  True, False,\n        True, False, False,  True, False,  True, False, False,  True,\n        True, False, False,  True]), 0)",
     "output_type": "error",
     "traceback": [
      "\u001b[1;31m---------------------------------------------------------------------------\u001b[0m",
      "\u001b[1;31mTypeError\u001b[0m                                 Traceback (most recent call last)",
      "File \u001b[1;32m~\\Desktop\\anaco\\Lib\\site-packages\\pandas\\core\\indexes\\base.py:3791\u001b[0m, in \u001b[0;36mIndex.get_loc\u001b[1;34m(self, key)\u001b[0m\n\u001b[0;32m   3790\u001b[0m \u001b[38;5;28;01mtry\u001b[39;00m:\n\u001b[1;32m-> 3791\u001b[0m     \u001b[38;5;28;01mreturn\u001b[39;00m \u001b[38;5;28mself\u001b[39m\u001b[38;5;241m.\u001b[39m_engine\u001b[38;5;241m.\u001b[39mget_loc(casted_key)\n\u001b[0;32m   3792\u001b[0m \u001b[38;5;28;01mexcept\u001b[39;00m \u001b[38;5;167;01mKeyError\u001b[39;00m \u001b[38;5;28;01mas\u001b[39;00m err:\n",
      "File \u001b[1;32mindex.pyx:152\u001b[0m, in \u001b[0;36mpandas._libs.index.IndexEngine.get_loc\u001b[1;34m()\u001b[0m\n",
      "File \u001b[1;32mindex.pyx:158\u001b[0m, in \u001b[0;36mpandas._libs.index.IndexEngine.get_loc\u001b[1;34m()\u001b[0m\n",
      "\u001b[1;31mTypeError\u001b[0m: '(array([False, False, False, False, False, False, False, False, False,\n       False, False, False, False, False, False, False, False, False,\n       False, False, False,  True, False,  True, False, False,  True,\n       False, False, False,  True, False,  True, False, False,  True,\n       False, False, False, False, False, False, False, False, False,\n        True, False, False, False, False,  True, False, False, False,\n       False, False,  True, False, False, False, False, False, False,\n        True,  True, False, False,  True,  True,  True, False,  True,\n       False, False, False, False,  True, False, False, False, False,\n        True, False, False, False, False, False, False, False, False,\n        True,  True, False,  True, False,  True, False, False, False,\n       False, False, False, False, False, False, False, False, False,\n       False, False, False, False, False, False, False,  True, False,\n       False, False, False, False, False, False, False, False, False,\n       False, False, False, False, False,  True, False, False, False,\n       False, False, False, False, False, False,  True,  True, False,\n       False, False,  True,  True,  True,  True, False, False, False,\n        True, False, False, False,  True, False, False, False, False,\n       False, False, False, False, False, False, False, False, False,\n       False, False, False, False,  True, False, False,  True,  True,\n       False,  True, False, False,  True, False, False, False, False,\n       False, False, False, False, False, False, False,  True, False,\n        True, False, False, False, False, False,  True, False, False,\n       False, False, False, False, False, False, False, False, False,\n       False, False, False, False, False, False, False, False, False,\n       False, False,  True, False, False, False, False, False, False,\n       False,  True, False, False, False, False,  True,  True, False,\n       False,  True, False, False, False,  True, False, False, False,\n       False, False, False,  True,  True, False, False, False,  True,\n        True, False, False, False,  True,  True, False, False, False,\n        True,  True, False, False, False,  True, False, False, False,\n       False, False, False,  True, False, False, False, False,  True,\n       False, False,  True, False, False, False, False,  True,  True,\n        True,  True, False, False, False, False, False, False, False,\n        True, False, False, False, False, False, False, False, False,\n        True, False, False, False, False,  True,  True, False, False,\n       False, False, False, False, False,  True, False, False, False,\n       False, False, False,  True,  True, False,  True,  True, False,\n        True, False,  True, False, False, False, False,  True, False,\n        True, False,  True, False, False, False,  True, False, False,\n       False,  True,  True, False, False,  True, False, False, False,\n       False, False, False, False, False, False, False, False, False,\n       False, False, False, False,  True,  True, False, False, False,\n       False, False, False, False, False, False, False, False,  True,\n       False, False, False,  True, False,  True, False, False, False,\n       False, False,  True, False, False, False, False, False, False,\n       False, False, False, False,  True, False, False, False,  True,\n       False, False, False,  True,  True, False, False,  True, False,\n        True,  True, False, False,  True, False, False,  True, False,\n       False, False, False, False,  True, False,  True, False, False,\n        True, False, False,  True, False, False,  True, False, False,\n       False, False, False, False, False, False, False, False, False,\n       False,  True, False, False, False, False, False, False, False,\n       False, False, False, False, False, False, False, False, False,\n        True, False, False, False, False, False, False, False,  True,\n       False, False,  True, False,  True, False, False, False,  True,\n        True, False, False, False,  True, False,  True, False, False,\n        True, False, False,  True,  True, False, False, False, False,\n       False, False, False, False, False, False, False, False, False,\n        True, False,  True,  True, False, False,  True, False,  True,\n       False, False, False, False, False, False, False,  True,  True,\n       False, False, False,  True, False, False, False, False,  True,\n        True, False, False,  True, False, False,  True, False, False,\n       False, False, False, False, False, False,  True,  True, False,\n       False,  True, False, False, False, False, False, False,  True,\n       False, False, False, False, False,  True, False, False, False,\n       False, False, False, False, False, False, False, False, False,\n       False, False, False, False, False, False, False, False, False,\n        True,  True,  True, False, False, False, False, False, False,\n       False, False, False, False, False, False, False, False, False,\n       False, False, False, False, False, False, False, False,  True,\n       False, False, False, False, False, False, False, False, False,\n       False, False, False, False, False, False, False, False, False,\n       False, False, False, False, False, False, False, False, False,\n       False, False, False, False, False, False, False, False, False,\n       False, False, False, False, False, False, False, False, False,\n       False, False, False, False,  True, False, False, False, False,\n       False, False, False, False,  True,  True,  True,  True,  True,\n       False,  True, False, False, False, False, False, False,  True,\n       False, False,  True, False, False, False, False, False, False,\n       False, False, False, False, False, False, False, False, False,\n       False, False, False, False, False, False, False, False, False,\n       False, False, False, False, False, False,  True, False, False,\n       False, False,  True, False,  True, False,  True, False, False,\n       False,  True, False, False,  True, False, False, False, False,\n       False, False, False, False, False, False, False, False, False,\n       False, False, False, False, False, False, False, False, False,\n       False, False, False, False, False, False, False, False, False,\n        True, False, False, False, False, False, False, False, False,\n       False,  True, False, False, False, False, False, False, False,\n       False, False, False, False, False, False, False, False, False,\n       False, False, False, False, False, False, False, False, False,\n       False, False, False, False, False, False, False, False, False,\n       False, False, False,  True, False, False, False, False, False,\n       False,  True,  True,  True, False, False, False, False, False,\n        True, False, False, False, False,  True,  True, False, False,\n       False, False, False, False,  True,  True, False, False, False,\n        True,  True, False, False, False,  True, False, False,  True,\n       False, False, False, False, False, False, False, False, False,\n       False, False,  True, False, False, False, False,  True, False,\n       False, False, False, False, False,  True,  True,  True, False,\n        True, False, False, False, False, False,  True, False, False,\n       False, False, False, False, False, False, False, False, False,\n       False,  True, False, False, False, False, False, False, False,\n       False, False, False, False,  True, False,  True,  True, False,\n       False, False, False, False,  True, False, False,  True, False,\n        True, False, False,  True, False,  True, False, False,  True,\n        True, False, False,  True]), 0)' is an invalid key",
      "\nDuring handling of the above exception, another exception occurred:\n",
      "\u001b[1;31mInvalidIndexError\u001b[0m                         Traceback (most recent call last)",
      "Cell \u001b[1;32mIn[31], line 1\u001b[0m\n\u001b[1;32m----> 1\u001b[0m plt\u001b[38;5;241m.\u001b[39mscatter(x[y_pred \u001b[38;5;241m==\u001b[39m\u001b[38;5;241m0\u001b[39m,\u001b[38;5;241m0\u001b[39m], x[y_pred \u001b[38;5;241m==\u001b[39m \u001b[38;5;241m0\u001b[39m,\u001b[38;5;241m1\u001b[39m], s \u001b[38;5;241m=\u001b[39m\u001b[38;5;241m60\u001b[39m, c\u001b[38;5;241m=\u001b[39m\u001b[38;5;124m\"\u001b[39m\u001b[38;5;124mred\u001b[39m\u001b[38;5;124m\"\u001b[39m, label\u001b[38;5;241m=\u001b[39m\u001b[38;5;124m\"\u001b[39m\u001b[38;5;124mcustomer1\u001b[39m\u001b[38;5;124m\"\u001b[39m)\n\u001b[0;32m      2\u001b[0m plt\u001b[38;5;241m.\u001b[39mscatter(x[y_pred \u001b[38;5;241m==\u001b[39m\u001b[38;5;241m1\u001b[39m,\u001b[38;5;241m0\u001b[39m], x[y_pred \u001b[38;5;241m==\u001b[39m \u001b[38;5;241m1\u001b[39m,\u001b[38;5;241m1\u001b[39m], s \u001b[38;5;241m=\u001b[39m\u001b[38;5;241m60\u001b[39m, c\u001b[38;5;241m=\u001b[39m\u001b[38;5;124m\"\u001b[39m\u001b[38;5;124mblue\u001b[39m\u001b[38;5;124m\"\u001b[39m, label\u001b[38;5;241m=\u001b[39m\u001b[38;5;124m\"\u001b[39m\u001b[38;5;124mcustomer2\u001b[39m\u001b[38;5;124m\"\u001b[39m)\n\u001b[0;32m      3\u001b[0m plt\u001b[38;5;241m.\u001b[39mscatter(x[y_pred \u001b[38;5;241m==\u001b[39m\u001b[38;5;241m2\u001b[39m,\u001b[38;5;241m0\u001b[39m], x[y_pred \u001b[38;5;241m==\u001b[39m \u001b[38;5;241m2\u001b[39m,\u001b[38;5;241m1\u001b[39m], s \u001b[38;5;241m=\u001b[39m\u001b[38;5;241m60\u001b[39m, c\u001b[38;5;241m=\u001b[39m\u001b[38;5;124m\"\u001b[39m\u001b[38;5;124mgreen\u001b[39m\u001b[38;5;124m\"\u001b[39m, label\u001b[38;5;241m=\u001b[39m\u001b[38;5;124m\"\u001b[39m\u001b[38;5;124mcustomer3\u001b[39m\u001b[38;5;124m\"\u001b[39m)\n",
      "File \u001b[1;32m~\\Desktop\\anaco\\Lib\\site-packages\\pandas\\core\\frame.py:3893\u001b[0m, in \u001b[0;36mDataFrame.__getitem__\u001b[1;34m(self, key)\u001b[0m\n\u001b[0;32m   3891\u001b[0m \u001b[38;5;28;01mif\u001b[39;00m \u001b[38;5;28mself\u001b[39m\u001b[38;5;241m.\u001b[39mcolumns\u001b[38;5;241m.\u001b[39mnlevels \u001b[38;5;241m>\u001b[39m \u001b[38;5;241m1\u001b[39m:\n\u001b[0;32m   3892\u001b[0m     \u001b[38;5;28;01mreturn\u001b[39;00m \u001b[38;5;28mself\u001b[39m\u001b[38;5;241m.\u001b[39m_getitem_multilevel(key)\n\u001b[1;32m-> 3893\u001b[0m indexer \u001b[38;5;241m=\u001b[39m \u001b[38;5;28mself\u001b[39m\u001b[38;5;241m.\u001b[39mcolumns\u001b[38;5;241m.\u001b[39mget_loc(key)\n\u001b[0;32m   3894\u001b[0m \u001b[38;5;28;01mif\u001b[39;00m is_integer(indexer):\n\u001b[0;32m   3895\u001b[0m     indexer \u001b[38;5;241m=\u001b[39m [indexer]\n",
      "File \u001b[1;32m~\\Desktop\\anaco\\Lib\\site-packages\\pandas\\core\\indexes\\base.py:3803\u001b[0m, in \u001b[0;36mIndex.get_loc\u001b[1;34m(self, key)\u001b[0m\n\u001b[0;32m   3798\u001b[0m     \u001b[38;5;28;01mraise\u001b[39;00m \u001b[38;5;167;01mKeyError\u001b[39;00m(key) \u001b[38;5;28;01mfrom\u001b[39;00m \u001b[38;5;21;01merr\u001b[39;00m\n\u001b[0;32m   3799\u001b[0m \u001b[38;5;28;01mexcept\u001b[39;00m \u001b[38;5;167;01mTypeError\u001b[39;00m:\n\u001b[0;32m   3800\u001b[0m     \u001b[38;5;66;03m# If we have a listlike key, _check_indexing_error will raise\u001b[39;00m\n\u001b[0;32m   3801\u001b[0m     \u001b[38;5;66;03m#  InvalidIndexError. Otherwise we fall through and re-raise\u001b[39;00m\n\u001b[0;32m   3802\u001b[0m     \u001b[38;5;66;03m#  the TypeError.\u001b[39;00m\n\u001b[1;32m-> 3803\u001b[0m     \u001b[38;5;28mself\u001b[39m\u001b[38;5;241m.\u001b[39m_check_indexing_error(key)\n\u001b[0;32m   3804\u001b[0m     \u001b[38;5;28;01mraise\u001b[39;00m\n",
      "File \u001b[1;32m~\\Desktop\\anaco\\Lib\\site-packages\\pandas\\core\\indexes\\base.py:5975\u001b[0m, in \u001b[0;36mIndex._check_indexing_error\u001b[1;34m(self, key)\u001b[0m\n\u001b[0;32m   5971\u001b[0m \u001b[38;5;28;01mdef\u001b[39;00m \u001b[38;5;21m_check_indexing_error\u001b[39m(\u001b[38;5;28mself\u001b[39m, key):\n\u001b[0;32m   5972\u001b[0m     \u001b[38;5;28;01mif\u001b[39;00m \u001b[38;5;129;01mnot\u001b[39;00m is_scalar(key):\n\u001b[0;32m   5973\u001b[0m         \u001b[38;5;66;03m# if key is not a scalar, directly raise an error (the code below\u001b[39;00m\n\u001b[0;32m   5974\u001b[0m         \u001b[38;5;66;03m# would convert to numpy arrays and raise later any way) - GH29926\u001b[39;00m\n\u001b[1;32m-> 5975\u001b[0m         \u001b[38;5;28;01mraise\u001b[39;00m InvalidIndexError(key)\n",
      "\u001b[1;31mInvalidIndexError\u001b[0m: (array([False, False, False, False, False, False, False, False, False,\n       False, False, False, False, False, False, False, False, False,\n       False, False, False,  True, False,  True, False, False,  True,\n       False, False, False,  True, False,  True, False, False,  True,\n       False, False, False, False, False, False, False, False, False,\n        True, False, False, False, False,  True, False, False, False,\n       False, False,  True, False, False, False, False, False, False,\n        True,  True, False, False,  True,  True,  True, False,  True,\n       False, False, False, False,  True, False, False, False, False,\n        True, False, False, False, False, False, False, False, False,\n        True,  True, False,  True, False,  True, False, False, False,\n       False, False, False, False, False, False, False, False, False,\n       False, False, False, False, False, False, False,  True, False,\n       False, False, False, False, False, False, False, False, False,\n       False, False, False, False, False,  True, False, False, False,\n       False, False, False, False, False, False,  True,  True, False,\n       False, False,  True,  True,  True,  True, False, False, False,\n        True, False, False, False,  True, False, False, False, False,\n       False, False, False, False, False, False, False, False, False,\n       False, False, False, False,  True, False, False,  True,  True,\n       False,  True, False, False,  True, False, False, False, False,\n       False, False, False, False, False, False, False,  True, False,\n        True, False, False, False, False, False,  True, False, False,\n       False, False, False, False, False, False, False, False, False,\n       False, False, False, False, False, False, False, False, False,\n       False, False,  True, False, False, False, False, False, False,\n       False,  True, False, False, False, False,  True,  True, False,\n       False,  True, False, False, False,  True, False, False, False,\n       False, False, False,  True,  True, False, False, False,  True,\n        True, False, False, False,  True,  True, False, False, False,\n        True,  True, False, False, False,  True, False, False, False,\n       False, False, False,  True, False, False, False, False,  True,\n       False, False,  True, False, False, False, False,  True,  True,\n        True,  True, False, False, False, False, False, False, False,\n        True, False, False, False, False, False, False, False, False,\n        True, False, False, False, False,  True,  True, False, False,\n       False, False, False, False, False,  True, False, False, False,\n       False, False, False,  True,  True, False,  True,  True, False,\n        True, False,  True, False, False, False, False,  True, False,\n        True, False,  True, False, False, False,  True, False, False,\n       False,  True,  True, False, False,  True, False, False, False,\n       False, False, False, False, False, False, False, False, False,\n       False, False, False, False,  True,  True, False, False, False,\n       False, False, False, False, False, False, False, False,  True,\n       False, False, False,  True, False,  True, False, False, False,\n       False, False,  True, False, False, False, False, False, False,\n       False, False, False, False,  True, False, False, False,  True,\n       False, False, False,  True,  True, False, False,  True, False,\n        True,  True, False, False,  True, False, False,  True, False,\n       False, False, False, False,  True, False,  True, False, False,\n        True, False, False,  True, False, False,  True, False, False,\n       False, False, False, False, False, False, False, False, False,\n       False,  True, False, False, False, False, False, False, False,\n       False, False, False, False, False, False, False, False, False,\n        True, False, False, False, False, False, False, False,  True,\n       False, False,  True, False,  True, False, False, False,  True,\n        True, False, False, False,  True, False,  True, False, False,\n        True, False, False,  True,  True, False, False, False, False,\n       False, False, False, False, False, False, False, False, False,\n        True, False,  True,  True, False, False,  True, False,  True,\n       False, False, False, False, False, False, False,  True,  True,\n       False, False, False,  True, False, False, False, False,  True,\n        True, False, False,  True, False, False,  True, False, False,\n       False, False, False, False, False, False,  True,  True, False,\n       False,  True, False, False, False, False, False, False,  True,\n       False, False, False, False, False,  True, False, False, False,\n       False, False, False, False, False, False, False, False, False,\n       False, False, False, False, False, False, False, False, False,\n        True,  True,  True, False, False, False, False, False, False,\n       False, False, False, False, False, False, False, False, False,\n       False, False, False, False, False, False, False, False,  True,\n       False, False, False, False, False, False, False, False, False,\n       False, False, False, False, False, False, False, False, False,\n       False, False, False, False, False, False, False, False, False,\n       False, False, False, False, False, False, False, False, False,\n       False, False, False, False, False, False, False, False, False,\n       False, False, False, False,  True, False, False, False, False,\n       False, False, False, False,  True,  True,  True,  True,  True,\n       False,  True, False, False, False, False, False, False,  True,\n       False, False,  True, False, False, False, False, False, False,\n       False, False, False, False, False, False, False, False, False,\n       False, False, False, False, False, False, False, False, False,\n       False, False, False, False, False, False,  True, False, False,\n       False, False,  True, False,  True, False,  True, False, False,\n       False,  True, False, False,  True, False, False, False, False,\n       False, False, False, False, False, False, False, False, False,\n       False, False, False, False, False, False, False, False, False,\n       False, False, False, False, False, False, False, False, False,\n        True, False, False, False, False, False, False, False, False,\n       False,  True, False, False, False, False, False, False, False,\n       False, False, False, False, False, False, False, False, False,\n       False, False, False, False, False, False, False, False, False,\n       False, False, False, False, False, False, False, False, False,\n       False, False, False,  True, False, False, False, False, False,\n       False,  True,  True,  True, False, False, False, False, False,\n        True, False, False, False, False,  True,  True, False, False,\n       False, False, False, False,  True,  True, False, False, False,\n        True,  True, False, False, False,  True, False, False,  True,\n       False, False, False, False, False, False, False, False, False,\n       False, False,  True, False, False, False, False,  True, False,\n       False, False, False, False, False,  True,  True,  True, False,\n        True, False, False, False, False, False,  True, False, False,\n       False, False, False, False, False, False, False, False, False,\n       False,  True, False, False, False, False, False, False, False,\n       False, False, False, False,  True, False,  True,  True, False,\n       False, False, False, False,  True, False, False,  True, False,\n        True, False, False,  True, False,  True, False, False,  True,\n        True, False, False,  True]), 0)"
     ]
    }
   ],
   "source": [
    "plt.scatter(x[y_pred ==0,0], x[y_pred == 0,1], s =60, c=\"red\", label=\"customer1\")\n",
    "plt.scatter(x[y_pred ==1,0], x[y_pred == 1,1], s =60, c=\"blue\", label=\"customer2\")\n",
    "plt.scatter(x[y_pred ==2,0], x[y_pred == 2,1], s =60, c=\"green\", label=\"customer3\")\n",
    "\n",
    "\n",
    "\n",
    "plt.scatter(kmeans.cluster_centers_[:, 0], kmeans.cluster_centers_[:, 1], kmeans.cluster_centers_[:, 2],s = 100, c = \"black\", label = \"centroids\")\n",
    "plt.title(\"Clustering the Quantity According to Country\")\n",
    "plt.xlabel(\"Quantiy\")\n",
    "plt.ylabel(\"Country\")\n",
    "plt.legend()\n",
    "plt.show()"
   ]
  },
  {
   "cell_type": "code",
   "execution_count": null,
   "id": "c26dd0a8-6e0e-4e9c-975d-60e6c814d38a",
   "metadata": {},
   "outputs": [],
   "source": [
    "### FUZZY C-MEANS CLUSTERING"
   ]
  },
  {
   "cell_type": "code",
   "execution_count": 28,
   "id": "9c96975d-5b8d-44ad-b864-d477f49818ba",
   "metadata": {},
   "outputs": [
    {
     "ename": "ValidationError",
     "evalue": "1 validation error for fit\n1\n  Input should be an instance of ndarray [type=is_instance_of, input_value=     Price Each     SALES...\n\n[967 rows x 2 columns], input_type=DataFrame]\n    For further information visit https://errors.pydantic.dev/2.7/v/is_instance_of",
     "output_type": "error",
     "traceback": [
      "\u001b[1;31m---------------------------------------------------------------------------\u001b[0m",
      "\u001b[1;31mValidationError\u001b[0m                           Traceback (most recent call last)",
      "Cell \u001b[1;32mIn[28], line 2\u001b[0m\n\u001b[0;32m      1\u001b[0m fcmModel \u001b[38;5;241m=\u001b[39m FCM(n_clusters \u001b[38;5;241m=\u001b[39m \u001b[38;5;241m3\u001b[39m)\n\u001b[1;32m----> 2\u001b[0m fcmModel\u001b[38;5;241m.\u001b[39mfit(x)\n\u001b[0;32m      3\u001b[0m center \u001b[38;5;241m=\u001b[39m fcmModel\u001b[38;5;241m.\u001b[39mcenters\n\u001b[0;32m      4\u001b[0m center\n",
      "File \u001b[1;32m~\\Desktop\\anaco\\Lib\\site-packages\\pydantic\\validate_call_decorator.py:59\u001b[0m, in \u001b[0;36mvalidate_call.<locals>.validate.<locals>.wrapper_function\u001b[1;34m(*args, **kwargs)\u001b[0m\n\u001b[0;32m     57\u001b[0m \u001b[38;5;129m@functools\u001b[39m\u001b[38;5;241m.\u001b[39mwraps(function)\n\u001b[0;32m     58\u001b[0m \u001b[38;5;28;01mdef\u001b[39;00m \u001b[38;5;21mwrapper_function\u001b[39m(\u001b[38;5;241m*\u001b[39margs, \u001b[38;5;241m*\u001b[39m\u001b[38;5;241m*\u001b[39mkwargs):\n\u001b[1;32m---> 59\u001b[0m     \u001b[38;5;28;01mreturn\u001b[39;00m validate_call_wrapper(\u001b[38;5;241m*\u001b[39margs, \u001b[38;5;241m*\u001b[39m\u001b[38;5;241m*\u001b[39mkwargs)\n",
      "File \u001b[1;32m~\\Desktop\\anaco\\Lib\\site-packages\\pydantic\\_internal\\_validate_call.py:81\u001b[0m, in \u001b[0;36mValidateCallWrapper.__call__\u001b[1;34m(self, *args, **kwargs)\u001b[0m\n\u001b[0;32m     80\u001b[0m \u001b[38;5;28;01mdef\u001b[39;00m \u001b[38;5;21m__call__\u001b[39m(\u001b[38;5;28mself\u001b[39m, \u001b[38;5;241m*\u001b[39margs: Any, \u001b[38;5;241m*\u001b[39m\u001b[38;5;241m*\u001b[39mkwargs: Any) \u001b[38;5;241m-\u001b[39m\u001b[38;5;241m>\u001b[39m Any:\n\u001b[1;32m---> 81\u001b[0m     res \u001b[38;5;241m=\u001b[39m \u001b[38;5;28mself\u001b[39m\u001b[38;5;241m.\u001b[39m__pydantic_validator__\u001b[38;5;241m.\u001b[39mvalidate_python(pydantic_core\u001b[38;5;241m.\u001b[39mArgsKwargs(args, kwargs))\n\u001b[0;32m     82\u001b[0m     \u001b[38;5;28;01mif\u001b[39;00m \u001b[38;5;28mself\u001b[39m\u001b[38;5;241m.\u001b[39m__return_pydantic_validator__:\n\u001b[0;32m     83\u001b[0m         \u001b[38;5;28;01mreturn\u001b[39;00m \u001b[38;5;28mself\u001b[39m\u001b[38;5;241m.\u001b[39m__return_pydantic_validator__(res)\n",
      "\u001b[1;31mValidationError\u001b[0m: 1 validation error for fit\n1\n  Input should be an instance of ndarray [type=is_instance_of, input_value=     Price Each     SALES...\n\n[967 rows x 2 columns], input_type=DataFrame]\n    For further information visit https://errors.pydantic.dev/2.7/v/is_instance_of"
     ]
    }
   ],
   "source": [
    "fcmModel = FCM(n_clusters = 3)\n",
    "fcmModel.fit(x)\n",
    "center = fcmModel.centers\n",
    "center"
   ]
  },
  {
   "cell_type": "code",
   "execution_count": null,
   "id": "2fb1bf06-4665-4e48-a379-498369ac889f",
   "metadata": {},
   "outputs": [],
   "source": [
    "## KMODES CLUSTERING"
   ]
  },
  {
   "cell_type": "code",
   "execution_count": 23,
   "id": "38725cc0-3b62-4245-985d-ad252b03a187",
   "metadata": {},
   "outputs": [
    {
     "name": "stdout",
     "output_type": "stream",
     "text": [
      "Init: initializing centroids\n",
      "Init: initializing clusters\n",
      "Starting iterations...\n",
      "Run 1, iteration: 1/100, moves: 2, cost: 1671.0\n"
     ]
    }
   ],
   "source": [
    "km_cao = KModes(n_clusters=2, init = \"Cao\", n_init = 1, verbose=1)\n",
    "fitClusters_cao = km_cao.fit_predict(x)"
   ]
  },
  {
   "cell_type": "code",
   "execution_count": 24,
   "id": "5a2e84e8-4da9-4b33-8869-e3e2d417024c",
   "metadata": {},
   "outputs": [
    {
     "name": "stdout",
     "output_type": "stream",
     "text": [
      "Init: initializing centroids\n",
      "Init: initializing clusters\n",
      "Starting iterations...\n",
      "Run 1, iteration: 1/100, moves: 0, cost: 1699.0\n"
     ]
    }
   ],
   "source": [
    "km_huang = KModes(n_clusters=2, init = \"Huang\", n_init = 1, verbose=1)\n",
    "fitClusters_huang = km_huang.fit_predict(x)"
   ]
  },
  {
   "cell_type": "code",
   "execution_count": 25,
   "id": "96c56776-bb16-41c9-a990-8c833b13696f",
   "metadata": {},
   "outputs": [
    {
     "name": "stdout",
     "output_type": "stream",
     "text": [
      "Init: initializing centroids\n",
      "Init: initializing clusters\n",
      "Starting iterations...\n",
      "Run 1, iteration: 1/100, moves: 0, cost: 1796.0\n",
      "Init: initializing centroids\n",
      "Init: initializing clusters\n",
      "Starting iterations...\n",
      "Run 1, iteration: 1/100, moves: 2, cost: 1671.0\n",
      "Init: initializing centroids\n",
      "Init: initializing clusters\n",
      "Starting iterations...\n",
      "Run 1, iteration: 1/100, moves: 2, cost: 1561.0\n",
      "Init: initializing centroids\n",
      "Init: initializing clusters\n",
      "Starting iterations...\n",
      "Run 1, iteration: 1/100, moves: 2, cost: 1465.0\n"
     ]
    }
   ],
   "source": [
    "cost = []\n",
    "for num_clusters in list(range(1,5)):\n",
    "    kmode = KModes(n_clusters=num_clusters, init = \"Cao\", n_init = 1, verbose=1)\n",
    "    kmode.fit_predict(x)\n",
    "    cost.append(kmode.cost_)"
   ]
  },
  {
   "cell_type": "code",
   "execution_count": 26,
   "id": "09d8db95-dbf5-4059-925e-2a9b0ed35538",
   "metadata": {},
   "outputs": [
    {
     "data": {
      "image/png": "[encoded data removed]",
      "text/plain": [
       "<Figure size 640x480 with 1 Axes>"
      ]
     },
     "metadata": {},
     "output_type": "display_data"
    }
   ],
   "source": [
    "y = np.array([i for i in range(1,5,1)])\n",
    "plt.plot(y,cost);"
   ]
  },
  {
   "cell_type": "code",
   "execution_count": 27,
   "id": "33456aeb-9042-41d7-9a90-1406b53920f7",
   "metadata": {},
   "outputs": [
    {
     "name": "stdout",
     "output_type": "stream",
     "text": [
      "Init: initializing centroids\n",
      "Init: initializing clusters\n",
      "Starting iterations...\n",
      "Run 1, iteration: 1/100, moves: 2, cost: 1671.0\n"
     ]
    }
   ],
   "source": [
    "km_cao = KModes(n_clusters=2, init = \"Cao\", n_init = 1, verbose=1)\n",
    "fitClusters_cao = km_cao.fit_predict(x)"
   ]
  },
  {
   "cell_type": "code",
   "execution_count": null,
   "id": "e15cbd70-a2ea-4200-99d2-23bacb80183d",
   "metadata": {},
   "outputs": [],
   "source": [
    "bank_cust = bank_cust.reset_index()\n",
    "clustersDf = pd.DataFrame(fitClusters_cao)\n",
    "clustersDf.columns = ['cluster_predicted']\n",
    "combinedDf = pd.concat([bank_cust, clustersDf], axis = 1).reset_index()\n",
    "combinedDf = combinedDf.drop(['index', 'level_0'], axis = 1)"
   ]
  },
  {
   "cell_type": "code",
   "execution_count": null,
   "id": "1f6e135e-631b-4e6e-968f-701fe836e112",
   "metadata": {},
   "outputs": [],
   "source": []
  },
  {
   "cell_type": "code",
   "execution_count": null,
   "id": "c3a89a1a-410b-40b3-a8b7-2fa1464a2b2b",
   "metadata": {},
   "outputs": [],
   "source": []
  }
 ],
 "metadata": {
  "kernelspec": {
   "display_name": "Python 3 (ipykernel)",
   "language": "python",
   "name": "python3"
  },
  "language_info": {
   "codemirror_mode": {
    "name": "ipython",
    "version": 3
   },
   "file_extension": ".py",
   "mimetype": "text/x-python",
   "name": "python",
   "nbconvert_exporter": "python",
   "pygments_lexer": "ipython3",
   "version": "3.11.7"
  }
 },
 "nbformat": 4,
 "nbformat_minor": 5
}
